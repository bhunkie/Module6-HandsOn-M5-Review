{
 "cells": [
  {
   "cell_type": "markdown",
   "id": "81f0743b",
   "metadata": {},
   "source": [
    "#  Data Science Tools and Ecosystem"
   ]
  },
  {
   "cell_type": "markdown",
   "id": "fcccf904",
   "metadata": {},
   "source": [
    "##   Author \n",
    "Tony Basa    May-28-2023"
   ]
  },
  {
   "cell_type": "markdown",
   "id": "f35e4e7b",
   "metadata": {},
   "source": [
    "In this notebook, Data Science Tools and Ecosystem are summarized"
   ]
  },
  {
   "cell_type": "markdown",
   "id": "51b17219",
   "metadata": {},
   "source": [
    "**OBJECTIVES**\n",
    "+ List langauges that are popular for Data Scientist\n",
    "+ List libraies used by Data Scientist\n",
    "+ List Data Science Tools / Development Environments\n",
    "+ Demonstrate Arithmetic Operations"
   ]
  },
  {
   "cell_type": "markdown",
   "id": "827b02bd",
   "metadata": {},
   "source": [
    "Some of the **popular languages** that Data Scientists use are:\n",
    "\n",
    "1. Python\n",
    "2. R\n",
    "3. SQL\n",
    "4. Scala\n",
    "5. Java\n",
    "6. C++\n",
    "7. Julia"
   ]
  },
  {
   "cell_type": "markdown",
   "id": "bf7ed49b",
   "metadata": {},
   "source": [
    "Some of the commonly used **libraries** used by Data Scientist include:\n",
    "1. Scientific Computing Libraries in Python\n",
    "2. Visualization Libraries in Python\n",
    "3. High-Level-Machine Learning and Deep Learning\n",
    "4. Deep Learning Libraries in Python\n",
    "5. Libraries used in other languages"
   ]
  },
  {
   "cell_type": "markdown",
   "id": "893e76cf",
   "metadata": {},
   "source": [
    "|  Data Science Tools |\n",
    "| ------------------- |\n",
    "| Jupyter Notebooks / Labs |\n",
    "| R Studioe |\n",
    "| Spyder |"
   ]
  },
  {
   "cell_type": "markdown",
   "id": "140bf5c9",
   "metadata": {},
   "source": [
    "### Below are a few examples of evaluating arithmetic expressions in Python"
   ]
  },
  {
   "cell_type": "code",
   "execution_count": 6,
   "id": "d15b408a",
   "metadata": {},
   "outputs": [
    {
     "data": {
      "text/plain": [
       "17"
      ]
     },
     "execution_count": 6,
     "metadata": {},
     "output_type": "execute_result"
    }
   ],
   "source": [
    "#  This a simple arithmetic expression to mutiply then add integers.\n",
    "(3*4)+5"
   ]
  },
  {
   "cell_type": "code",
   "execution_count": 7,
   "id": "96ff5b57",
   "metadata": {},
   "outputs": [
    {
     "data": {
      "text/plain": [
       "3.3333333333333335"
      ]
     },
     "execution_count": 7,
     "metadata": {},
     "output_type": "execute_result"
    }
   ],
   "source": [
    "# This will convert 200 minutes to hours by diving by 60\n",
    "200/60"
   ]
  },
  {
   "cell_type": "code",
   "execution_count": null,
   "id": "cd260026",
   "metadata": {},
   "outputs": [],
   "source": []
  }
 ],
 "metadata": {
  "kernelspec": {
   "display_name": "Python 3 (ipykernel)",
   "language": "python",
   "name": "python3"
  },
  "language_info": {
   "codemirror_mode": {
    "name": "ipython",
    "version": 3
   },
   "file_extension": ".py",
   "mimetype": "text/x-python",
   "name": "python",
   "nbconvert_exporter": "python",
   "pygments_lexer": "ipython3",
   "version": "3.9.12"
  }
 },
 "nbformat": 4,
 "nbformat_minor": 5
}
